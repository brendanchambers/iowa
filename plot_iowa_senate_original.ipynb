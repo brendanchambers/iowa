{
 "cells": [
  {
   "cell_type": "code",
   "execution_count": 1,
   "metadata": {},
   "outputs": [],
   "source": [
    "import geopandas as gp\n",
    "import matplotlib.pyplot as plt\n",
    "import matplotlib as mpl\n",
    "import numpy as np\n",
    "import json\n",
    "\n",
    "# scraping\n",
    "from bs4 import BeautifulSoup\n",
    "import urllib.request\n",
    "\n",
    "# scale figures\n",
    "scale_factor = 2\n",
    "default_dpi = mpl.rcParamsDefault['figure.dpi']\n",
    "mpl.rcParams['figure.dpi'] = default_dpi*4"
   ]
  },
  {
   "cell_type": "code",
   "execution_count": 2,
   "metadata": {},
   "outputs": [
    {
     "name": "stdout",
     "output_type": "stream",
     "text": [
      "  STATEFP SLDUST        AFFGEOID  GEOID NAME LSAD   LSY       ALAND    AWATER  \\\n",
      "0      19    015  610U500US19015  19015   15   LU  2016  2018444563  10397350   \n",
      "1      19    011  610U500US19011  19011   11   LU  2016  5654806346  26648063   \n",
      "2      19    028  610U500US19028  19028   28   LU  2016  5891550986  88897367   \n",
      "3      19    044  610U500US19044  19044   44   LU  2016  2870151776  89385250   \n",
      "4      19    037  610U500US19037  19037   37   LU  2016  1983473342  21803055   \n",
      "\n",
      "                                            geometry  \n",
      "0  POLYGON ((-93.581052 41.780457, -93.580873 41....  \n",
      "1  POLYGON ((-96.01981699999999 41.48802999999999...  \n",
      "2  POLYGON ((-92.08156199999999 42.994198, -92.08...  \n",
      "3  POLYGON ((-91.48581999999999 41.220666, -91.48...  \n",
      "4  POLYGON ((-91.64693699999999 41.723402, -91.64...  \n"
     ]
    }
   ],
   "source": [
    "data_path = 'data/iowa upper/cb_2017_19_sldu_500k.shp'\n",
    "shapes = gp.GeoDataFrame.from_file(data_path)\n",
    "\n",
    "print(shapes.head())"
   ]
  },
  {
   "cell_type": "code",
   "execution_count": 3,
   "metadata": {},
   "outputs": [
    {
     "name": "stdout",
     "output_type": "stream",
     "text": [
      "[{'district': '1', 'name': 'Sen. David J. Johnson ', 'vote': 'Yea', 'party': 'Independent', 'votesmart_page': 'www.votesmart.org/candidate/17990/david-johnson'}, {'district': '2', 'name': 'Sen. Randy Feenstra ', 'vote': 'Yea', 'party': 'Republican', 'votesmart_page': 'www.votesmart.org/candidate/103301/randy-feenstra'}, {'district': '3', 'name': 'Sen. Jim Carlin ', 'vote': 'Yea', 'party': 'Republican', 'votesmart_page': 'www.votesmart.org/candidate/168690/jim-carlin'}, {'district': '4', 'name': 'Sen. Dennis Guth ', 'vote': 'Yea', 'party': 'Republican', 'votesmart_page': 'www.votesmart.org/candidate/137900/dennis-guth'}, {'district': '5', 'name': 'Sen. Tim Kraayenbrink ', 'vote': 'Yea', 'party': 'Republican', 'votesmart_page': 'www.votesmart.org/candidate/151155/tim-kraayenbrink'}, {'district': '6', 'name': 'Sen. Mark Segebart ', 'vote': 'Yea', 'party': 'Republican', 'votesmart_page': 'www.votesmart.org/candidate/86078/mark-segebart'}, {'district': '7', 'name': 'Sen. Rick Bertrand ', 'vote': 'Yea', 'party': 'Republican', 'votesmart_page': 'www.votesmart.org/candidate/103327/rick-bertrand'}, {'district': '8', 'name': 'Sen. Dan Dawson ', 'vote': 'Yea', 'party': 'Republican', 'votesmart_page': 'www.votesmart.org/candidate/168617/dan-dawson'}, {'district': '9', 'name': 'Sen. Jason Schultz ', 'vote': 'Yea', 'party': 'Republican', 'votesmart_page': 'www.votesmart.org/candidate/103373/jason-schultz'}, {'district': '10', 'name': 'Sen. Jake Chapman ', 'vote': 'Yea', 'party': 'Republican', 'votesmart_page': 'www.votesmart.org/candidate/137905/jake-chapman'}, {'district': '11', 'name': 'Sen. Tom Shipley ', 'vote': 'Yea', 'party': 'Republican', 'votesmart_page': 'www.votesmart.org/candidate/151191/tom-shipley'}, {'district': '12', 'name': 'Sen. Mark Costello ', 'vote': 'Yea', 'party': 'Republican', 'votesmart_page': 'www.votesmart.org/candidate/137943/mark-costello'}, {'district': '13', 'name': 'Sen. Julian B. Garrett ', 'vote': 'Yea', 'party': 'Republican', 'votesmart_page': 'www.votesmart.org/candidate/57126/julian-garrett'}, {'district': '14', 'name': 'Sen. Amy Sinclair ', 'vote': 'Yea', 'party': 'Republican', 'votesmart_page': 'www.votesmart.org/candidate/85793/amy-sinclair'}, {'district': '15', 'name': 'Sen. Chaz Allen ', 'vote': 'Did Not Vote', 'party': 'Democratic', 'votesmart_page': 'www.votesmart.org/candidate/151091/chaz-allen'}, {'district': '16', 'name': 'Sen. Nate Boulton ', 'vote': 'Nay', 'party': 'Democratic', 'votesmart_page': 'www.votesmart.org/candidate/168632/nate-boulton'}, {'district': '17', 'name': 'Sen. Tony Bisignano ', 'vote': 'Did Not Vote', 'party': 'Democratic', 'votesmart_page': 'www.votesmart.org/candidate/6415/tony-bisignano'}, {'district': '18', 'name': 'Sen. Janet Petersen ', 'vote': 'Nay', 'party': 'Democratic', 'votesmart_page': 'www.votesmart.org/candidate/32520/janet-petersen'}, {'district': '19', 'name': 'Sen. Jack Whitver ', 'vote': 'Yea', 'party': 'Republican', 'votesmart_page': 'www.votesmart.org/candidate/68976/jack-whitver'}, {'district': '20', 'name': 'Sen. Brad Zaun ', 'vote': 'Yea', 'party': 'Republican', 'votesmart_page': 'www.votesmart.org/candidate/32392/brad-zaun'}, {'district': '21', 'name': 'Sen. Matthew W. McCoy ', 'vote': 'Nay', 'party': 'Democratic', 'votesmart_page': 'www.votesmart.org/candidate/6522/matthew-mccoy'}, {'district': '22', 'name': 'Sen. Charles Schneider ', 'vote': 'Yea', 'party': 'Republican', 'votesmart_page': 'www.votesmart.org/candidate/73929/charles-schneider'}, {'district': '23', 'name': 'Sen. Herman C. Quirmbach ', 'vote': 'Nay', 'party': 'Democratic', 'votesmart_page': 'www.votesmart.org/candidate/32647/herman-quirmbach'}, {'district': '24', 'name': 'Sen. Jerry Behn ', 'vote': 'Yea', 'party': 'Republican', 'votesmart_page': 'www.votesmart.org/candidate/10899/jerry-behn'}, {'district': '26', 'name': 'Sen. Waylon Brown ', 'vote': 'Yea', 'party': 'Republican', 'votesmart_page': 'www.votesmart.org/candidate/168644/waylon-brown'}, {'district': '27', 'name': 'Sen. Amanda Ragan ', 'vote': 'Nay', 'party': 'Democratic', 'votesmart_page': 'www.votesmart.org/candidate/32694/amanda-ragan'}, {'district': '28', 'name': 'Sen. Michael Breitbach ', 'vote': 'Yea', 'party': 'Republican', 'votesmart_page': 'www.votesmart.org/candidate/122100/michael-breitbach'}, {'district': '29', 'name': 'Sen. Tod R. Bowman ', 'vote': 'Nay', 'party': 'Democratic', 'votesmart_page': 'www.votesmart.org/candidate/122016/tod-bowman'}, {'district': '30', 'name': 'Sen. Jeff Danielson ', 'vote': 'Nay', 'party': 'Democratic', 'votesmart_page': 'www.votesmart.org/candidate/32706/jeff-danielson'}, {'district': '31', 'name': 'Sen. William A. Dotzler ', 'vote': 'Nay', 'party': 'Democratic', 'votesmart_page': 'www.votesmart.org/candidate/11013/bill-dotzler'}, {'district': '32', 'name': 'Sen. Craig Johnson ', 'vote': 'Yea', 'party': 'Republican', 'votesmart_page': 'www.votesmart.org/candidate/151145/craig-johnson'}, {'district': '33', 'name': 'Sen. Robert M. Hogg ', 'vote': 'Nay', 'party': 'Democratic', 'votesmart_page': 'www.votesmart.org/candidate/32807/robert-hogg'}, {'district': '34', 'name': 'Sen. Liz Mathis ', 'vote': 'Nay', 'party': 'Democratic', 'votesmart_page': 'www.votesmart.org/candidate/136806/liz-mathis'}, {'district': '35', 'name': 'Sen. Wally E. Horn ', 'vote': 'Nay', 'party': 'Democratic', 'votesmart_page': 'www.votesmart.org/candidate/6435/wally-horn'}, {'district': '36', 'name': 'Sen. Jeff Edler ', 'vote': 'Yea', 'party': 'Republican', 'votesmart_page': 'www.votesmart.org/candidate/168668/jeff-edler'}, {'district': '37', 'name': 'Sen. Robert E. Dvorsky ', 'vote': 'Nay', 'party': 'Democratic', 'votesmart_page': 'www.votesmart.org/candidate/6423/robert-dvorsky'}, {'district': '38', 'name': 'Sen. Tim L. Kapucian ', 'vote': 'Yea', 'party': 'Republican', 'votesmart_page': 'www.votesmart.org/candidate/103310/tim-kapucian'}, {'district': '39', 'name': 'Sen. Kevin Kinney ', 'vote': 'Nay', 'party': 'Democratic', 'votesmart_page': 'www.votesmart.org/candidate/151152/kevin-kinney'}, {'district': '40', 'name': 'Sen. Ken Rozenboom ', 'vote': 'Yea', 'party': 'Republican', 'votesmart_page': 'www.votesmart.org/candidate/134145/ken-rozenboom'}, {'district': '41', 'name': 'Sen. Mark Chelgren ', 'vote': 'Yea', 'party': 'Republican', 'votesmart_page': 'www.votesmart.org/candidate/122047/mark-chelgren'}, {'district': '42', 'name': 'Sen. Rich Taylor ', 'vote': 'Did Not Vote', 'party': 'Democratic', 'votesmart_page': 'www.votesmart.org/candidate/142447/rich-taylor'}, {'district': '43', 'name': 'Sen. Joe L. Bolkcom ', 'vote': 'Nay', 'party': 'Democratic', 'votesmart_page': 'www.votesmart.org/candidate/18000/joe-bolkcom'}, {'district': '44', 'name': 'Sen. Thomas A. Greene ', 'vote': 'Yea', 'party': 'Republican', 'votesmart_page': 'www.votesmart.org/candidate/168671/thomas-greene'}, {'district': '45', 'name': 'Sen. Jim Lykam ', 'vote': 'Nay', 'party': 'Democratic', 'votesmart_page': 'www.votesmart.org/candidate/32546/jim-lykam'}, {'district': '46', 'name': 'Sen. Mark S. Lofgren ', 'vote': 'Yea', 'party': 'Republican', 'votesmart_page': 'www.votesmart.org/candidate/122026/mark-lofgren'}, {'district': '47', 'name': 'Sen. Roby Smith ', 'vote': 'Yea', 'party': 'Republican', 'votesmart_page': 'www.votesmart.org/candidate/57029/roby-smith'}, {'district': '48', 'name': 'Sen. Dan Zumbach ', 'vote': 'Did Not Vote', 'party': 'Republican', 'votesmart_page': 'www.votesmart.org/candidate/137923/dan-zumbach'}, {'district': '49', 'name': 'Sen. Rita Hart ', 'vote': 'Nay', 'party': 'Democratic', 'votesmart_page': 'www.votesmart.org/candidate/137924/rita-hart'}, {'district': '50', 'name': 'Sen. Pam Jochum ', 'vote': 'Nay', 'party': 'Democratic', 'votesmart_page': 'www.votesmart.org/candidate/6509/pam-jochum'}]\n"
     ]
    }
   ],
   "source": [
    "# voting records  https://votesmart.org/bills/IA/2018/2#.WvTmyZch200\n",
    "# senate   https://votesmart.org/bill/votes/62842#.WvTzNpch200\n",
    "# house  https://votesmart.org/bill/votes/62843#.WvTzO5ch200\n",
    "# senate concurrence  https://votesmart.org/bill/votes/62844#.WvTzQpch200\n",
    "\n",
    "\n",
    "# get votes\n",
    "target_url = 'https://votesmart.org/bill/votes/62844#.WvXeuZch200'\n",
    "with urllib.request.urlopen(target_url) as response:\n",
    "    page = response.read()\n",
    "    soup = BeautifulSoup(page, 'html.parser')\n",
    "    vote_table = soup.table\n",
    "    table_rows = vote_table.find_all('tr')\n",
    "    table_rows.pop(0) # first row is headers, throw away\n",
    "    \n",
    "vote_record = []\n",
    "    \n",
    "offset = 1 # 1 row for the headers\n",
    "for row in table_rows:\n",
    "    columns = row.find_all('td')\n",
    "    \n",
    "    name_info = columns[2].span\n",
    "    name_parts = name_info.find_all('span')\n",
    "    name = \"\"\n",
    "    for part in name_parts:\n",
    "        name = name + part.text + ' '\n",
    "    \n",
    "    district = columns[1].text\n",
    "    vote = columns[4].text\n",
    "    party = columns[3].text\n",
    "    votesmart_page = 'www.votesmart.org' + str(columns[2].a['href'])\n",
    "    \n",
    "    vote_object = {\"district\":district, \"name\":name, \"vote\":vote, \"party\":party, \"votesmart_page\":votesmart_page}\n",
    "    vote_record.append(vote_object)\n",
    "\n",
    "# store for later use\n",
    "target_path = 'data/SF359 senate vote record.json'\n",
    "with open(target_path, 'w') as outfile:  \n",
    "    json.dump(vote_record, outfile)\n",
    "    \n",
    "print(vote_record)\n",
    "    "
   ]
  },
  {
   "cell_type": "code",
   "execution_count": 13,
   "metadata": {},
   "outputs": [
    {
     "name": "stdout",
     "output_type": "stream",
     "text": [
      "warning...\n",
      "list index out of range\n"
     ]
    },
    {
     "data": {
      "image/png": "[encoded data removed]",
      "text/plain": [
       "<Figure size 432x288 with 1 Axes>"
      ]
     },
     "metadata": {},
     "output_type": "display_data"
    }
   ],
   "source": [
    "# color state districts based on vote record \n",
    "plt.figure()\n",
    "ax = plt.gca()\n",
    "\n",
    "for idx in range(shapes.shape[0]):\n",
    "    \n",
    "    district_id = shapes.loc[idx,'NAME']\n",
    "    try:\n",
    "        matching_record = [record for record in vote_record if record['district']==district_id][0]    \n",
    "        if matching_record['vote']=='Yea':\n",
    "            plot_color = 'xkcd:crimson'\n",
    "        elif matching_record['vote']=='Nay':\n",
    "            plot_color = 'xkcd:navy'\n",
    "        else:\n",
    "            plot_color = 'xkcd:plum'\n",
    "\n",
    "        shapes.loc[[idx],'geometry'].plot(ax=ax, alpha=0.8, linewidth=0.5, edgecolor='black',facecolor=plot_color)\n",
    "        \n",
    "    except Exception as e: # no data\n",
    "        print('warning...')\n",
    "        print(e)\n",
    "        \n",
    "        plot_color='xkcd:grey' \n",
    "        shapes.loc[[idx],'geometry'].plot(ax=ax, alpha=0.8, linewidth=0.5, edgecolor='black',facecolor=plot_color)\n",
    "\n",
    "    \n",
    "\n",
    "#plt.axis('scaled')\n",
    "plt.axis('off')\n",
    "plt.savefig(\"iowa_senate_SF359.svg\")\n",
    "plt.show()\n",
    "\n"
   ]
  },
  {
   "cell_type": "code",
   "execution_count": null,
   "metadata": {},
   "outputs": [],
   "source": []
  }
 ],
 "metadata": {
  "kernelspec": {
   "display_name": "Python [conda env:geoenv]",
   "language": "python",
   "name": "conda-env-geoenv-py"
  },
  "language_info": {
   "codemirror_mode": {
    "name": "ipython",
    "version": 3
   },
   "file_extension": ".py",
   "mimetype": "text/x-python",
   "name": "python",
   "nbconvert_exporter": "python",
   "pygments_lexer": "ipython3",
   "version": "3.6.5"
  }
 },
 "nbformat": 4,
 "nbformat_minor": 2
}
